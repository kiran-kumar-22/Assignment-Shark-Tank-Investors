{
 "cells": [
  {
   "cell_type": "markdown",
   "id": "bffdba82",
   "metadata": {},
   "source": [
    "### Link : https://www.serialupdates.me/shark-tank-india-investors-names-sony-tv-newshow-entrepreneurs-list/\n",
    "\n",
    "## Aim: Write a reusable function code to scrape the table for all the columns\n",
    "\n",
    "• Convert the columns data with proper data type conversion\n"
   ]
  },
  {
   "cell_type": "code",
   "execution_count": 1,
   "id": "6ceac2f4",
   "metadata": {},
   "outputs": [],
   "source": [
    "url = 'https://www.serialupdates.me/shark-tank-india-investors-names-sony-tv-new-show-entrepreneurs-list/'"
   ]
  },
  {
   "cell_type": "code",
   "execution_count": 2,
   "id": "19e71459",
   "metadata": {},
   "outputs": [],
   "source": [
    "import os"
   ]
  },
  {
   "cell_type": "code",
   "execution_count": 23,
   "id": "ac1d3211",
   "metadata": {},
   "outputs": [],
   "source": [
    "os.chdir('D:\\Scripting')"
   ]
  },
  {
   "cell_type": "code",
   "execution_count": 24,
   "id": "eae66704",
   "metadata": {},
   "outputs": [],
   "source": [
    "from selenium import webdriver\n",
    "from bs4 import BeautifulSoup\n",
    "import requests"
   ]
  },
  {
   "cell_type": "code",
   "execution_count": 25,
   "id": "1b852844",
   "metadata": {},
   "outputs": [],
   "source": [
    "browser = webdriver.Firefox()"
   ]
  },
  {
   "cell_type": "code",
   "execution_count": 26,
   "id": "f3812102",
   "metadata": {},
   "outputs": [],
   "source": [
    "browser.get(url)"
   ]
  },
  {
   "cell_type": "code",
   "execution_count": 27,
   "id": "dfbfe8ca",
   "metadata": {},
   "outputs": [],
   "source": [
    "html = browser.page_source"
   ]
  },
  {
   "cell_type": "code",
   "execution_count": 28,
   "id": "2b8cf2ef",
   "metadata": {},
   "outputs": [],
   "source": [
    "soup = BeautifulSoup(html,'html.parser')"
   ]
  },
  {
   "cell_type": "code",
   "execution_count": 29,
   "id": "57351912",
   "metadata": {},
   "outputs": [
    {
     "data": {
      "text/plain": [
       "'Sr No.'"
      ]
     },
     "execution_count": 29,
     "metadata": {},
     "output_type": "execute_result"
    }
   ],
   "source": [
    "soup.select('figure.wp-block-table.is-style-stripes')[1].find_all('thead')[0].find_all('th')[0].text.strip()"
   ]
  },
  {
   "cell_type": "code",
   "execution_count": 30,
   "id": "5d92e8aa",
   "metadata": {},
   "outputs": [],
   "source": [
    "table = soup.select('figure.wp-block-table.is-style-stripes')[1]\n"
   ]
  },
  {
   "cell_type": "code",
   "execution_count": 31,
   "id": "14c1e2ae",
   "metadata": {},
   "outputs": [
    {
     "data": {
      "text/plain": [
       "['Sr No.',\n",
       " 'Entrepreneur Name',\n",
       " 'From',\n",
       " 'Business',\n",
       " 'Deal',\n",
       " 'Original Ask',\n",
       " 'Final Offer',\n",
       " 'Investors']"
      ]
     },
     "execution_count": 31,
     "metadata": {},
     "output_type": "execute_result"
    }
   ],
   "source": [
    "thead = [i.text.strip() for i in table.find_all('th')]\n",
    "thead"
   ]
  },
  {
   "cell_type": "code",
   "execution_count": 32,
   "id": "72dfcb42",
   "metadata": {},
   "outputs": [],
   "source": [
    "import pandas as pd\n"
   ]
  },
  {
   "cell_type": "code",
   "execution_count": 33,
   "id": "5b479a2c",
   "metadata": {},
   "outputs": [],
   "source": [
    "def shark_tank():\n",
    "    thead = [i.text.strip() for i in table.find_all('th')]\n",
    "    data=[]\n",
    "    for a in soup.select('figure.wp-block-table.is-style-stripes')[1].tbody.find_all('tr'):\n",
    "        data.append([i.text.strip() for i in a.find_all('td')])\n",
    "    df = pd.DataFrame(data)\n",
    "    df.columns = thead\n",
    "    return df"
   ]
  },
  {
   "cell_type": "code",
   "execution_count": 34,
   "id": "ccd4360e",
   "metadata": {},
   "outputs": [
    {
     "data": {
      "text/html": [
       "<div>\n",
       "<style scoped>\n",
       "    .dataframe tbody tr th:only-of-type {\n",
       "        vertical-align: middle;\n",
       "    }\n",
       "\n",
       "    .dataframe tbody tr th {\n",
       "        vertical-align: top;\n",
       "    }\n",
       "\n",
       "    .dataframe thead th {\n",
       "        text-align: right;\n",
       "    }\n",
       "</style>\n",
       "<table border=\"1\" class=\"dataframe\">\n",
       "  <thead>\n",
       "    <tr style=\"text-align: right;\">\n",
       "      <th></th>\n",
       "      <th>Sr No.</th>\n",
       "      <th>Entrepreneur Name</th>\n",
       "      <th>From</th>\n",
       "      <th>Business</th>\n",
       "      <th>Deal</th>\n",
       "      <th>Original Ask</th>\n",
       "      <th>Final Offer</th>\n",
       "      <th>Investors</th>\n",
       "    </tr>\n",
       "  </thead>\n",
       "  <tbody>\n",
       "    <tr>\n",
       "      <th>0</th>\n",
       "      <td>1</td>\n",
       "      <td>Aditi Madan (Momo Mami)</td>\n",
       "      <td>Darjeeling</td>\n",
       "      <td>Momos(BluePine Foods)</td>\n",
       "      <td>Deal</td>\n",
       "      <td>₹50 lakhs5% Equity</td>\n",
       "      <td>₹75 lakhs 16% Equity</td>\n",
       "      <td>Ashneer, Aman, Vineeta</td>\n",
       "    </tr>\n",
       "    <tr>\n",
       "      <th>1</th>\n",
       "      <td>2</td>\n",
       "      <td>Rutvij Dasadia</td>\n",
       "      <td>Ahmedabad</td>\n",
       "      <td>Electric Scooters (Booz)</td>\n",
       "      <td>Deal</td>\n",
       "      <td>₹40 lakhs15% Equity</td>\n",
       "      <td>₹40 lakhs50% Equity</td>\n",
       "      <td>Ashneer, Vineeta</td>\n",
       "    </tr>\n",
       "    <tr>\n",
       "      <th>2</th>\n",
       "      <td>3</td>\n",
       "      <td>Riya Khattar</td>\n",
       "      <td>New Delhi</td>\n",
       "      <td>Outfit(Heart Up My Sleeves)</td>\n",
       "      <td>Deal</td>\n",
       "      <td>₹25 lakhs 10% Equity</td>\n",
       "      <td>₹25 lakhs30% Equity</td>\n",
       "      <td>Anupam, Vineeta</td>\n",
       "    </tr>\n",
       "    <tr>\n",
       "      <th>3</th>\n",
       "      <td>4</td>\n",
       "      <td>Anish and Sagar</td>\n",
       "      <td>Delhi</td>\n",
       "      <td>Popped Chips(Tagz Foods)</td>\n",
       "      <td>Deal</td>\n",
       "      <td>₹70 lakhs 1% Equity</td>\n",
       "      <td>₹70 lakhs  2.75% Equity</td>\n",
       "      <td>Ashneer</td>\n",
       "    </tr>\n",
       "    <tr>\n",
       "      <th>4</th>\n",
       "      <td>5</td>\n",
       "      <td>Singh Family</td>\n",
       "      <td>Punjab</td>\n",
       "      <td>Brain Training(Head and Heart)</td>\n",
       "      <td>No Deal</td>\n",
       "      <td>₹50 lakhs 5% Equity</td>\n",
       "      <td>No Offer</td>\n",
       "      <td>N/A</td>\n",
       "    </tr>\n",
       "    <tr>\n",
       "      <th>...</th>\n",
       "      <td>...</td>\n",
       "      <td>...</td>\n",
       "      <td>...</td>\n",
       "      <td>...</td>\n",
       "      <td>...</td>\n",
       "      <td>...</td>\n",
       "      <td>...</td>\n",
       "      <td>...</td>\n",
       "    </tr>\n",
       "    <tr>\n",
       "      <th>112</th>\n",
       "      <td>113</td>\n",
       "      <td>Madhavi and Satish Datwani</td>\n",
       "      <td>Mumbai</td>\n",
       "      <td>Plant-based Beverages(Green Protein)</td>\n",
       "      <td>No Deal</td>\n",
       "      <td>₹60 lakhs2% Equity</td>\n",
       "      <td>₹60 lakhs15% Equity</td>\n",
       "      <td>Aman, Vineeta, Ghazal</td>\n",
       "    </tr>\n",
       "    <tr>\n",
       "      <th>113</th>\n",
       "      <td>114</td>\n",
       "      <td>Sanandan Sudhir</td>\n",
       "      <td>Ahmedabad</td>\n",
       "      <td>Smart Cooking Device (On2Cook)</td>\n",
       "      <td>No Deal</td>\n",
       "      <td>₹1 crore1% Equity</td>\n",
       "      <td>No Offer</td>\n",
       "      <td>N/A</td>\n",
       "    </tr>\n",
       "    <tr>\n",
       "      <th>114</th>\n",
       "      <td>115</td>\n",
       "      <td>Supreet, Manish, Rupali</td>\n",
       "      <td>Mumbai</td>\n",
       "      <td>Washroom Finder App(Woloo)</td>\n",
       "      <td>No Deal</td>\n",
       "      <td>₹50 lakhs4% Equity</td>\n",
       "      <td>₹25 lakhs10% Equity₹25 lakhsDebt</td>\n",
       "      <td>Namita</td>\n",
       "    </tr>\n",
       "    <tr>\n",
       "      <th>115</th>\n",
       "      <td>116</td>\n",
       "      <td>Anubhav Jain</td>\n",
       "      <td>Modinagar</td>\n",
       "      <td>Lemon Shikanji(Jain Shikanji)</td>\n",
       "      <td>Deal</td>\n",
       "      <td>₹40 lakhs8% Equity</td>\n",
       "      <td>₹40 lakhs30% Equity</td>\n",
       "      <td>Aman, Anupam, Ashneer, Vineeta</td>\n",
       "    </tr>\n",
       "    <tr>\n",
       "      <th>116</th>\n",
       "      <td>117</td>\n",
       "      <td>Pankaj, Aashna, Suresh</td>\n",
       "      <td>Gurugram</td>\n",
       "      <td>Carenting for Elders(Elcare)</td>\n",
       "      <td>No Deal</td>\n",
       "      <td>₹1 crore2.5% Equity</td>\n",
       "      <td>No Offer</td>\n",
       "      <td>N/A</td>\n",
       "    </tr>\n",
       "  </tbody>\n",
       "</table>\n",
       "<p>117 rows × 8 columns</p>\n",
       "</div>"
      ],
      "text/plain": [
       "    Sr No.           Entrepreneur Name        From  \\\n",
       "0        1     Aditi Madan (Momo Mami)  Darjeeling   \n",
       "1        2              Rutvij Dasadia   Ahmedabad   \n",
       "2        3                Riya Khattar   New Delhi   \n",
       "3        4             Anish and Sagar       Delhi   \n",
       "4        5                Singh Family      Punjab   \n",
       "..     ...                         ...         ...   \n",
       "112    113  Madhavi and Satish Datwani      Mumbai   \n",
       "113    114             Sanandan Sudhir   Ahmedabad   \n",
       "114    115     Supreet, Manish, Rupali      Mumbai   \n",
       "115    116                Anubhav Jain   Modinagar   \n",
       "116    117      Pankaj, Aashna, Suresh    Gurugram   \n",
       "\n",
       "                                 Business     Deal          Original Ask  \\\n",
       "0                   Momos(BluePine Foods)     Deal    ₹50 lakhs5% Equity   \n",
       "1                Electric Scooters (Booz)     Deal   ₹40 lakhs15% Equity   \n",
       "2             Outfit(Heart Up My Sleeves)     Deal  ₹25 lakhs 10% Equity   \n",
       "3                Popped Chips(Tagz Foods)     Deal   ₹70 lakhs 1% Equity   \n",
       "4          Brain Training(Head and Heart)  No Deal   ₹50 lakhs 5% Equity   \n",
       "..                                    ...      ...                   ...   \n",
       "112  Plant-based Beverages(Green Protein)  No Deal    ₹60 lakhs2% Equity   \n",
       "113        Smart Cooking Device (On2Cook)  No Deal     ₹1 crore1% Equity   \n",
       "114            Washroom Finder App(Woloo)  No Deal    ₹50 lakhs4% Equity   \n",
       "115         Lemon Shikanji(Jain Shikanji)     Deal    ₹40 lakhs8% Equity   \n",
       "116          Carenting for Elders(Elcare)  No Deal   ₹1 crore2.5% Equity   \n",
       "\n",
       "                          Final Offer                       Investors  \n",
       "0                ₹75 lakhs 16% Equity          Ashneer, Aman, Vineeta  \n",
       "1                 ₹40 lakhs50% Equity                Ashneer, Vineeta  \n",
       "2                 ₹25 lakhs30% Equity                 Anupam, Vineeta  \n",
       "3             ₹70 lakhs  2.75% Equity                         Ashneer  \n",
       "4                            No Offer                             N/A  \n",
       "..                                ...                             ...  \n",
       "112               ₹60 lakhs15% Equity           Aman, Vineeta, Ghazal  \n",
       "113                          No Offer                             N/A  \n",
       "114  ₹25 lakhs10% Equity₹25 lakhsDebt                          Namita  \n",
       "115               ₹40 lakhs30% Equity  Aman, Anupam, Ashneer, Vineeta  \n",
       "116                          No Offer                             N/A  \n",
       "\n",
       "[117 rows x 8 columns]"
      ]
     },
     "execution_count": 34,
     "metadata": {},
     "output_type": "execute_result"
    }
   ],
   "source": [
    "df1 = shark_tank()\n",
    "df1"
   ]
  },
  {
   "cell_type": "code",
   "execution_count": 35,
   "id": "cefa275e",
   "metadata": {},
   "outputs": [],
   "source": [
    "df1.to_csv(\"Shark Tank Investors Details.csv\",index=False)"
   ]
  },
  {
   "cell_type": "code",
   "execution_count": null,
   "id": "0c3c7754",
   "metadata": {},
   "outputs": [],
   "source": []
  },
  {
   "cell_type": "code",
   "execution_count": null,
   "id": "0c7e449a",
   "metadata": {},
   "outputs": [],
   "source": []
  },
  {
   "cell_type": "code",
   "execution_count": null,
   "id": "105019c1",
   "metadata": {},
   "outputs": [],
   "source": []
  },
  {
   "cell_type": "code",
   "execution_count": null,
   "id": "c24cb277",
   "metadata": {},
   "outputs": [],
   "source": []
  },
  {
   "cell_type": "code",
   "execution_count": null,
   "id": "3fba34e3",
   "metadata": {},
   "outputs": [],
   "source": []
  },
  {
   "cell_type": "code",
   "execution_count": null,
   "id": "e897ea80",
   "metadata": {},
   "outputs": [],
   "source": []
  },
  {
   "cell_type": "code",
   "execution_count": null,
   "id": "e1656d4c",
   "metadata": {},
   "outputs": [],
   "source": []
  },
  {
   "cell_type": "code",
   "execution_count": null,
   "id": "bceed9d7",
   "metadata": {},
   "outputs": [],
   "source": []
  },
  {
   "cell_type": "code",
   "execution_count": null,
   "id": "8db657e3",
   "metadata": {},
   "outputs": [],
   "source": []
  },
  {
   "cell_type": "code",
   "execution_count": null,
   "id": "7550d6b1",
   "metadata": {},
   "outputs": [],
   "source": []
  },
  {
   "cell_type": "code",
   "execution_count": null,
   "id": "8ffa5303",
   "metadata": {},
   "outputs": [],
   "source": []
  },
  {
   "cell_type": "code",
   "execution_count": null,
   "id": "4cf804ad",
   "metadata": {},
   "outputs": [],
   "source": []
  },
  {
   "cell_type": "code",
   "execution_count": null,
   "id": "8f489ab6",
   "metadata": {},
   "outputs": [],
   "source": []
  },
  {
   "cell_type": "code",
   "execution_count": null,
   "id": "bd58cb9b",
   "metadata": {},
   "outputs": [],
   "source": []
  },
  {
   "cell_type": "code",
   "execution_count": null,
   "id": "480a6397",
   "metadata": {},
   "outputs": [],
   "source": []
  },
  {
   "cell_type": "code",
   "execution_count": null,
   "id": "6f00a4c8",
   "metadata": {},
   "outputs": [],
   "source": []
  },
  {
   "cell_type": "code",
   "execution_count": null,
   "id": "8a2e495d",
   "metadata": {},
   "outputs": [],
   "source": []
  }
 ],
 "metadata": {
  "kernelspec": {
   "display_name": "Python 3 (ipykernel)",
   "language": "python",
   "name": "python3"
  },
  "language_info": {
   "codemirror_mode": {
    "name": "ipython",
    "version": 3
   },
   "file_extension": ".py",
   "mimetype": "text/x-python",
   "name": "python",
   "nbconvert_exporter": "python",
   "pygments_lexer": "ipython3",
   "version": "3.9.7"
  }
 },
 "nbformat": 4,
 "nbformat_minor": 5
}
